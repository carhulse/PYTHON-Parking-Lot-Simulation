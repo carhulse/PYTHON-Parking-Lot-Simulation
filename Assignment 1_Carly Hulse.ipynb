{
 "cells": [
  {
   "cell_type": "code",
   "execution_count": 85,
   "metadata": {
    "collapsed": false
   },
   "outputs": [],
   "source": [
    "# Question 1\n",
    "# Parking lot simulation, PLSimulation\n",
    "\n",
    "import random\n",
    "import numpy as np\n",
    "\n",
    "def PLSimulation(minArriving, maxArriving, maxLeaving, hrs):\n",
    "    from random import randrange\n",
    "    from numpy import zeros\n",
    "    capacity = 50 # lot capacity\n",
    "    queue = 0 # no one is in line\n",
    "    parked = 0 # the lot is empty\n",
    "    global spots\n",
    "    global lot\n",
    "    spots = 50 # lot starts empty\n",
    "    ar_array = np.zeros([0]) # collecting for the arrival rates\n",
    "    dr_array = np.zeros([1]) # collecting for the departure rates\n",
    "    for hour in range(0,hrs):\n",
    "        arrival = random.randrange(minArriving,maxArriving)\n",
    "        leaving = random.randrange(maxLeaving) #random number between 0 and maxLeaving\n",
    "        \n",
    "        if (hour==0):\n",
    "            if (arrival<=capacity):\n",
    "                parked = arrival\n",
    "            elif (arrival>capacity):\n",
    "                parked = capacity\n",
    "                queue = arrival - parked\n",
    "            spots = capacity - parked\n",
    "            lot = parked\n",
    "            print(\"\\nDuring hour\", hour, \"of the simulation:\\n\",arrival, \"cars arrive.\", parked, \"cars park and\", queue, \"cars are left waiting. There are\", spots, \"spots left in the lot.\")\n",
    "\n",
    "        if (hour>0):\n",
    "            leaving = random.randrange(parked) # more cars can't leave than there are in the lot, so use randrange(parked)\n",
    "            cars = queue + arrival\n",
    "            spots = spots + leaving\n",
    "            if (cars<=spots): #lot has space\n",
    "                parked = cars\n",
    "            elif (cars>spots): #lot is full\n",
    "                parked = spots\n",
    "                spots = 0\n",
    "            queue = cars - parked\n",
    "            lot = lot + parked - leaving\n",
    "            spots = capacity - lot\n",
    "            print(\"During hour\", hour,\"of the simulation:\\n\",arrival, \"cars arrive and\",leaving,\"cars leave.\", parked, \"cars park,\", queue, \"cars are left waiting. \\nThere are\", spots, \"spots left in the lot and\", lot, \"cars parked in the lot.\")\n",
    "            dr_array = np.append(dr_array, [leaving], axis=0) # departures\n",
    "       \n",
    "        ar_array = np.append(ar_array, [arrival], axis=0) # arrivals  \n",
    "            \n",
    "    print(\"\\n Final results:\")\n",
    "    print(lot, \"cars are parked in the lot\")\n",
    "    print(queue, \"cars are in queue to park\")\n",
    "    print(\"There are\", spots, \"spots left in the lot\")\n",
    "    \n",
    "    print(\"\\n Report:\")\n",
    "    ar = (sum(ar_array))/hrs  #car arrival rate\n",
    "    print(\"The average car arrival rate was\", int(ar), \"cars per hour.\")\n",
    "    dr = (sum(dr_array))/hrs  #car departure rate\n",
    "    print(\"The average car departure rate was\", int(dr), \"cars per hour.\")\n",
    "    print(\"The number of cars waiting to park after the simulation has run is\", queue,\".\")"
   ]
  },
  {
   "cell_type": "code",
   "execution_count": 86,
   "metadata": {
    "collapsed": false
   },
   "outputs": [
    {
     "name": "stdout",
     "output_type": "stream",
     "text": [
      "\n",
      "During hour 0 of the simulation:\n",
      " 14 cars arrive. 14 cars park and 0 cars are left waiting. There are 36 spots left in the lot.\n",
      "During hour 1 of the simulation:\n",
      " 20 cars arrive and 9 cars leave. 20 cars park, 0 cars are left waiting. \n",
      "There are 25 spots left in the lot and 25 cars parked in the lot.\n",
      "During hour 2 of the simulation:\n",
      " 16 cars arrive and 18 cars leave. 16 cars park, 0 cars are left waiting. \n",
      "There are 27 spots left in the lot and 23 cars parked in the lot.\n",
      "\n",
      " Final results:\n",
      "23 cars are parked in the lot\n",
      "0 cars are in queue to park\n",
      "There are 27 spots left in the lot\n",
      "\n",
      " Report:\n",
      "The average car arrival rate was 16 cars per hour.\n",
      "The average car departure rate was 9 cars per hour.\n",
      "The number of cars waiting to park after the simulation has run is 0 .\n"
     ]
    }
   ],
   "source": [
    "# Test:\n",
    "PLSimulation(10, 50, 20, 3)"
   ]
  },
  {
   "cell_type": "code",
   "execution_count": null,
   "metadata": {
    "collapsed": false
   },
   "outputs": [],
   "source": [
    "# Try it with your own numbers!\n",
    "minArriving = int(input('Choose a minimum number of cars that can park in the PL during one hour: '))\n",
    "maxArriving = int(input('Choose a maximum number of cars that can park in the PL during one hour: '))\n",
    "maxLeaving = int(input('Choose a maximum number of cars that can leave the PL during one hour: '))\n",
    "hrs = int(input('How many hours would you like this simulation to run?: '))\n",
    "\n",
    "PLSimulation(minArriving, maxArriving, maxLeaving, hrs)"
   ]
  },
  {
   "cell_type": "code",
   "execution_count": 77,
   "metadata": {
    "collapsed": false
   },
   "outputs": [],
   "source": [
    "# Question 2\n",
    "# Names and Scores\n",
    "\n",
    "def readFile(fileName):\n",
    "    namesList=[]\n",
    "    scoreList=[]\n",
    "    infile = open(fileName, 'r')\n",
    "    data = infile.read().splitlines()\n",
    "    for elem in data:\n",
    "        if elem.isalpha():\n",
    "            namesList.append(elem)\n",
    "        else:\n",
    "            scoreList.append(elem)\n",
    "\n",
    "    print(namesList)\n",
    "    print(scoreList)\n",
    "        \n",
    "    index = int()       \n",
    "    for score in scoreList:\n",
    "        index = scoreList.index(max(scoreList))    \n",
    "    topscore = scoreList[index]\n",
    "    topname = (namesList[index])\n",
    "    \n",
    "    print(topname,\"has the best score:\", topscore)"
   ]
  },
  {
   "cell_type": "code",
   "execution_count": 78,
   "metadata": {
    "collapsed": false
   },
   "outputs": [
    {
     "name": "stdout",
     "output_type": "stream",
     "text": [
      "['Michael', 'Chris', 'Madeleine', 'Karin']\n",
      "['4999', '5970', '4110', '7212']\n",
      "Karin has the best score: 7212\n"
     ]
    }
   ],
   "source": [
    "# I used the example file to create a .txt file in my library called 'names_scores_A1Q2'\n",
    "# Running it with that file as an example\n",
    "\n",
    "readFile(\"C:\\\\Users\\\\carly\\\\OneDrive\\\\Documents\\\\CISC 151\\\\names_scores_A1Q2.txt\")"
   ]
  },
  {
   "cell_type": "code",
   "execution_count": null,
   "metadata": {
    "collapsed": true
   },
   "outputs": [],
   "source": []
  }
 ],
 "metadata": {
  "kernelspec": {
   "display_name": "Python [Root]",
   "language": "python",
   "name": "Python [Root]"
  },
  "language_info": {
   "codemirror_mode": {
    "name": "ipython",
    "version": 3
   },
   "file_extension": ".py",
   "mimetype": "text/x-python",
   "name": "python",
   "nbconvert_exporter": "python",
   "pygments_lexer": "ipython3",
   "version": "3.5.2"
  }
 },
 "nbformat": 4,
 "nbformat_minor": 0
}
